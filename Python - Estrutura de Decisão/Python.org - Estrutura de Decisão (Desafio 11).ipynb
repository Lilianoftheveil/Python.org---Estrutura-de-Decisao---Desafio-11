{
 "cells": [
  {
   "cell_type": "code",
   "execution_count": null,
   "id": "f704985c",
   "metadata": {},
   "outputs": [],
   "source": [
    "Python - Lista de Exercícios (Estrutura de Decisão) \n",
    "link: https://wiki.python.org.br/EstruturaDeDecisao"
   ]
  },
  {
   "cell_type": "markdown",
   "id": "c1424185",
   "metadata": {},
   "source": [
    "11) As Organizações Tabajara resolveram dar um aumento de salário aos seus colaboradores e lhe contraram para desenvolver o programa que calculará os reajustes.\n",
    "\n",
    "Faça um programa que recebe o salário de um colaborador e o reajuste segundo o seguinte critério, baseado no salário atual:\n",
    "\n",
    "- salários até 280,00 (reais) (incluindo) : aumento de 20%\n",
    "- salários entre 280,00 e 700,00 (reais) : aumento de 15%\n",
    "- salários entre 700,00 e 1500,00 (reais): aumento de 10%\n",
    "- salários de 1500,00 (reais) em diante : aumento de 5% \n",
    "\n",
    "Após o aumento ser realizado, informe na tela:\n",
    "\n",
    "- o salário antes do reajuste;\n",
    "- o percentual de aumento aplicado;\n",
    "- o valor do aumento;\n",
    "- o novo salário, após o aumento."
   ]
  },
  {
   "cell_type": "code",
   "execution_count": null,
   "id": "6d7cf684",
   "metadata": {},
   "outputs": [],
   "source": [
    "Obs.: Visando desenvolver o programa de forma mais dinâmica e menos suscetível a erros, adicionei \n",
    "outras estruturas no corpo do código. De modo que apenas números sejam aceitos durante sua execução."
   ]
  },
  {
   "cell_type": "code",
   "execution_count": null,
   "id": "eb6d47b6",
   "metadata": {},
   "outputs": [],
   "source": [
    "while True:\n",
    "  x = input(\"Salário atual: \")\n",
    "  try:\n",
    "    float(x)\n",
    "    x = float(x)\n",
    "    if x <= 280:\n",
    "      y = x * 1.20\n",
    "      a = 20\n",
    "      break \n",
    "    elif x > 280 and x <= 700:\n",
    "      y = x * 1.15\n",
    "      a = 15\n",
    "      break\n",
    "    elif x > 700 and x <= 1500:\n",
    "      y = x * 1.10\n",
    "      a = 10\n",
    "      break\n",
    "    elif x > 1500:\n",
    "      y = x * 1.5\n",
    "      a = 5\n",
    "      break\n",
    "  except:\n",
    "    print(\"Por favor digite apenas números.\")\n",
    "    continue\n",
    "\n",
    "print(f\"Salário antes do reajuste: R$ {x}\")\n",
    "print(f\"Porcentual de aumento: {a}%\")\n",
    "print(f\"Valor do Aumento: R$ {round(y - x, 2)}\")\n",
    "print(f\"Novo Salário: R$ {round(y, 2)}\")"
   ]
  }
 ],
 "metadata": {
  "kernelspec": {
   "display_name": "Python 3 (ipykernel)",
   "language": "python",
   "name": "python3"
  },
  "language_info": {
   "codemirror_mode": {
    "name": "ipython",
    "version": 3
   },
   "file_extension": ".py",
   "mimetype": "text/x-python",
   "name": "python",
   "nbconvert_exporter": "python",
   "pygments_lexer": "ipython3",
   "version": "3.8.10"
  }
 },
 "nbformat": 4,
 "nbformat_minor": 5
}
